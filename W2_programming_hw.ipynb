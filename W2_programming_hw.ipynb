{
 "cells": [
  {
   "cell_type": "markdown",
   "id": "5df918c3",
   "metadata": {},
   "source": [
    "This is the homework for week 2! The prompt is to use NumPy (or sagemath) to determine if a list of vectors forms an orthogonal / orthonormal basis for a vector space, compute inner products, multiply matrices, and compute LU and spectral decompositions."
   ]
  },
  {
   "cell_type": "markdown",
   "id": "acddcf64",
   "metadata": {},
   "source": [
    "Problem 1: Build a function to take two vectors with real-valued entries and compute their inner product. "
   ]
  },
  {
   "cell_type": "code",
   "execution_count": 42,
   "id": "836d1193",
   "metadata": {},
   "outputs": [
    {
     "name": "stdout",
     "output_type": "stream",
     "text": [
      "The inner product of [1, 2, -1] and [4, -1, 2] is 0.\n"
     ]
    }
   ],
   "source": [
    "def ip(v1,v2):\n",
    "    ip_out = 0\n",
    "    for i in range (len(v1)):\n",
    "        ip_out += v1[i] * v2[i]\n",
    "\n",
    "    return ip_out\n",
    "a = [1, 2, -1]\n",
    "b = [4, -1, 2]\n",
    "\n",
    "print(f'The inner product of {a} and {b} is {ip(a,b)}.')"
   ]
  },
  {
   "cell_type": "markdown",
   "id": "0c81d128",
   "metadata": {},
   "source": [
    "Problem 2: Build a function which checks if two matrices can be multiplied and then multiplies them."
   ]
  },
  {
   "cell_type": "code",
   "execution_count": 43,
   "id": "9e118869",
   "metadata": {},
   "outputs": [
    {
     "name": "stdout",
     "output_type": "stream",
     "text": [
      "[[ 3  1]\n",
      " [-1  0]]\n",
      "[[ 3  2]\n",
      " [-1  0]]\n",
      "[[ 8  6]\n",
      " [-3 -2]]\n",
      "Matrix Multiplication is possible. \n"
     ]
    }
   ],
   "source": [
    "import numpy as np\n",
    "\n",
    "A = np.array( [[3,1],\n",
    "            [-1,0]] )\n",
    "print(A)\n",
    "B = np.array( [[3,2], \n",
    "            [-1,0]] )\n",
    "print(B)\n",
    "\n",
    "\n",
    "def canMult(A,B):\n",
    "    if np.shape(A)[1] == np.shape(B)[0]:\n",
    "        return True\n",
    "    else:\n",
    "        return False\n",
    "    \n",
    "def mult(A,B):\n",
    "\n",
    "    if canMult(A,B):\n",
    "        return True\n",
    "    else:\n",
    "        return False\n",
    "\n",
    "result_matrix = np.matmul(A, B)\n",
    "\n",
    "print(result_matrix)\n",
    "print('Matrix Multiplication is possible. ')\n",
    "\n"
   ]
  },
  {
   "cell_type": "markdown",
   "id": "7e96eda9",
   "metadata": {},
   "source": [
    "Problem 3: Build a function which takes A and computes $A^T$."
   ]
  },
  {
   "cell_type": "code",
   "execution_count": 44,
   "id": "715dafbd",
   "metadata": {},
   "outputs": [
    {
     "name": "stdout",
     "output_type": "stream",
     "text": [
      "Original A:\n",
      " [[ 3  2]\n",
      " [-1  0]\n",
      " [ 3  3]]\n",
      "Transpose of A:\n",
      " [[ 3. -1.  3.]\n",
      " [ 2.  0.  3.]]\n"
     ]
    }
   ],
   "source": [
    "\"\"\"\n",
    "( [1,2], <--- abritrary 2x2 matrix, \n",
    "[3,4] )\n",
    "\n",
    "\n",
    "import numpy as np\n",
    "A = np.array( [[3,1], \n",
    "            [-1,0]] )\n",
    "\n",
    "print(A)[0]\n",
    "\"\"\"\n",
    "import numpy as np\n",
    "\n",
    "def transpose(A):\n",
    "    m, n = np.shape(A)        # rows, cols\n",
    "    T = np.zeros((n, m))      # transpose\n",
    "    \n",
    "    for i in range(m):        # rows\n",
    "        for j in range(n):    # columns\n",
    "            T[j, i] = A[i, j] # flip \n",
    "    \n",
    "    return T\n",
    "\n",
    "A = np.array([[3, 2], \n",
    "              [-1, 0], \n",
    "              [3, 3]])\n",
    "\n",
    "print(\"Original A:\\n\", A)\n",
    "print(\"Transpose of A:\\n\", transpose(A))\n"
   ]
  },
  {
   "cell_type": "markdown",
   "id": "85e1b299",
   "metadata": {},
   "source": [
    "Problem 4: Build a function which determines if a list of vectors is an orthogonal or orthonormal basis by computing $A^T A$ and checking if it is diagonal / I. (Hint: Use your function from problem 3!)"
   ]
  },
  {
   "cell_type": "code",
   "execution_count": 45,
   "id": "9a246ec0",
   "metadata": {},
   "outputs": [
    {
     "name": "stdout",
     "output_type": "stream",
     "text": [
      "The vectors form an orthonormal basis.\n",
      "The vectors form an orthogonal (but not orthonormal) basis.\n",
      "The vectors are neither orthogonal nor orthonormal.\n"
     ]
    }
   ],
   "source": [
    "import numpy as np\n",
    "\n",
    "def transpose(A):\n",
    "    m, n = np.shape(A) # m - rows, n - columns\n",
    "    T = np.zeros((n, m))\n",
    "    for i in range(m):\n",
    "        for j in range(n):\n",
    "            T[j, i] = A[i, j]\n",
    "    return T\n",
    "\n",
    "def check_basis(A):\n",
    "\n",
    "    A_T = transpose(A)\n",
    "    ATA = np.matmul(A_T, A)\n",
    "\n",
    "    # check if ATA is diagonal (i.e., perpendicular or orthogonal)\n",
    "    is_diagonal = np.allclose(ATA, np.diag(np.diagonal(ATA)))\n",
    "\n",
    "    # check if ATA is identity\n",
    "    is_identity = np.allclose(ATA, np.identity(A.shape[1]))\n",
    "\n",
    "    if is_identity:\n",
    "        return \"The vectors form an orthonormal basis.\"\n",
    "    elif is_diagonal:\n",
    "        return \"The vectors form an orthogonal (but not orthonormal) basis.\"\n",
    "    else:\n",
    "        return \"The vectors are neither orthogonal nor orthonormal.\"\n",
    "\n",
    "# Orthonormal basis in R^2\n",
    "A = np.array([[1, 0],\n",
    "              [0, 1]])\n",
    "print(check_basis(A))   # orthonormal\n",
    "\n",
    "# Orthogonal but not orthonormal\n",
    "B = np.array([[2, 0],\n",
    "              [0, 3]])\n",
    "print(check_basis(B))   # orthogonal only (not of unit length)\n",
    "\n",
    "# Not orthogonal\n",
    "C = np.array([[1, 1],\n",
    "              [1, 0]])\n",
    "print(check_basis(C))   # neither\n"
   ]
  },
  {
   "cell_type": "markdown",
   "id": "b0767499",
   "metadata": {},
   "source": [
    "Problem 5: Use Numpy's internal tools to compute the eigenvectors and eigenvalues of A, and then build a function which outputs the spectral decomposition of A."
   ]
  },
  {
   "cell_type": "code",
   "execution_count": 46,
   "id": "cc43486a",
   "metadata": {},
   "outputs": [
    {
     "name": "stdout",
     "output_type": "stream",
     "text": [
      "Eigenvalues:\n",
      "[1. 1.]\n",
      "\n",
      "Eigenvectors:\n",
      "[[1. 0.]\n",
      " [0. 1.]]\n",
      "\n",
      "A_synth:\n",
      "[[1. 0.]\n",
      " [0. 1.]]\n",
      "\n"
     ]
    }
   ],
   "source": [
    "def spectral_decomposition(A):\n",
    "    # eigenvalues & eigenvectors\n",
    "    eigvals, eigvecs = np.linalg.eig(A)\n",
    "    # diagonal matrix of eigenvalues\n",
    "    Lambda = np.diag(eigvals)\n",
    "    # eigenvector matrix\n",
    "    Q = eigvecs\n",
    "    # inverse of Q\n",
    "    Q_inv = np.linalg.inv(Q)\n",
    "    \n",
    "    # reconstruct A using spectral decomposition\n",
    "    A_reconstructed = Q @ Lambda @ Q_inv\n",
    "    \n",
    "    return {\n",
    "        \"Eigenvalues\": eigvals,\n",
    "        \"Eigenvectors\": eigvecs,\n",
    "        \"A_synth\": A_reconstructed\n",
    "    }\n",
    "\n",
    "result = spectral_decomposition(A)\n",
    "for key, value in result.items():\n",
    "    print(f\"{key}:\\n{value}\\n\")\n"
   ]
  }
 ],
 "metadata": {
  "kernelspec": {
   "display_name": ".venv",
   "language": "python",
   "name": "python3"
  },
  "language_info": {
   "codemirror_mode": {
    "name": "ipython",
    "version": 3
   },
   "file_extension": ".py",
   "mimetype": "text/x-python",
   "name": "python",
   "nbconvert_exporter": "python",
   "pygments_lexer": "ipython3",
   "version": "3.13.3"
  }
 },
 "nbformat": 4,
 "nbformat_minor": 5
}
